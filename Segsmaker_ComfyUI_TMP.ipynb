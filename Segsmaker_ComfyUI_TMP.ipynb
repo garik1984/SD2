{
 "cells": [
  {
   "cell_type": "markdown",
   "id": "b6f1eec1-3cc5-4fa1-95ab-ef38e9785d60",
   "metadata": {},
   "source": [
    "[![Open in Studio Lab](https://studiolab.sagemaker.aws/studiolab.svg)](https://studiolab.sagemaker.aws/import/github/gutris1/segsmaker/blob/main/Segsmaker_ComfyUI_TMP.ipynb)"
   ]
  },
  {
   "cell_type": "markdown",
   "id": "26786ea3-e294-44b6-900a-798b0880de76",
   "metadata": {
    "tags": []
   },
   "source": [
    "## Conda"
   ]
  },
  {
   "cell_type": "code",
   "execution_count": null,
   "id": "2d3e396f-46be-4809-8605-031de38bf8b4",
   "metadata": {
    "tags": []
   },
   "outputs": [],
   "source": [
    "!curl -sLo ~/.conda/conda_install.py https://github.com/gutris1/segsmaker/raw/main/script/conda3.py\n",
    "%run ~/.conda/conda_install.py"
   ]
  },
  {
   "cell_type": "markdown",
   "id": "011fac09-3453-4fea-bad6-da971f037c3b",
   "metadata": {
    "tags": []
   },
   "source": [
    "## Clone ComfyUI"
   ]
  },
  {
   "cell_type": "code",
   "execution_count": null,
   "id": "598827fd-7cf0-4d73-b982-c417916b7e96",
   "metadata": {
    "tags": []
   },
   "outputs": [],
   "source": [
    "%say 【{red} Installing ComfyUI{d} 】{red}\n",
    "%cd -q ~\n",
    "!git clone -q https://github.com/comfyanonymous/ComfyUI\n",
    "\n",
    "%cd -q ~/ComfyUI\n",
    "!pip install -q -r requirements.txt\n",
    "%pull https://github.com/gutris1/segsmaker cui ~/ComfyUI\n",
    "%download ~/ComfyUI/asd/cui.txt\n",
    "%run ~/ComfyUI/asd/cui.py"
   ]
  },
  {
   "cell_type": "code",
   "execution_count": null,
   "id": "16df5f0c-1132-47da-a224-b7ddc454bec9",
   "metadata": {
    "tags": []
   },
   "outputs": [],
   "source": [
    "''' Custom Nodes ''' ''' TEMPORARY '''\n",
    "%say 【{red} Installing Custom Nodes{d} 】{red}\n",
    "!rm -rf ~/ComfyUI/custom_nodes ~/ComfyUI/models/clip_vision\n",
    "!ln -vs /tmp/custom_nodes ~/ComfyUI/custom_nodes\n",
    "!ln -vs /tmp/clip_vision ~/ComfyUI/models/clip_vision\n",
    "!ln -vs /tmp/insightface ~/ComfyUI/models/insightface\n",
    "!ln -vs /tmp/facerestore_models ~/ComfyUI/models/facerestore_models\n",
    "!mkdir -p /tmp/custom_nodes /tmp/clip_vision /tmp/insightface /tmp/facerestore_models\n",
    "%cd -q ~/ComfyUI/custom_nodes\n",
    "%clone ~/ComfyUI/asd/custom_nodes.txt\n",
    "%download ~/ComfyUI/asd/custom_nodes_models.txt\n",
    "# add custom nodes here !git clone URL\n",
    "\n",
    "%cd -q ~/ComfyUI\n",
    "![ -f \"custom_nodes/ComfyUI-Manager/scripts/colab-dependencies.py\" ] \\\n",
    "&& python \"custom_nodes/ComfyUI-Manager/scripts/colab-dependencies.py\" > /dev/null\n",
    "!rm -rf ~/.cache/* ~/ComfyUI/custom_nodes/~\n",
    "%say 【{red} Done{d} 】{red}"
   ]
  },
  {
   "cell_type": "markdown",
   "id": "c8d5d6aa-8dc8-46af-8aa5-785b25d68ae7",
   "metadata": {
    "tags": []
   },
   "source": [
    "## *ControlNET models* <span style=\"color:#ff7171; font-size: 14px;\">temporary</span>"
   ]
  },
  {
   "cell_type": "code",
   "execution_count": null,
   "id": "c7a1bfea-7691-4a1c-b290-1ef58c87cee1",
   "metadata": {
    "tags": []
   },
   "outputs": [],
   "source": [
    "%run ~/ComfyUI/asd/controlnet.py"
   ]
  },
  {
   "cell_type": "markdown",
   "id": "e1686fb4-1cf7-4abf-bdef-f742beb84e0c",
   "metadata": {
    "tags": []
   },
   "source": [
    "## *Checkpoint* <span style=\"color:#ff7171; font-size: 14px;\">temporary</span>"
   ]
  },
  {
   "cell_type": "code",
   "execution_count": null,
   "id": "58cad0c8-1007-499f-a5a5-bb2b028288c1",
   "metadata": {
    "tags": []
   },
   "outputs": [],
   "source": [
    "%tempe\n",
    "%cd -q ~/ComfyUI/models/checkpoints\n",
    "\n",
    "%download https://civitai.com/api/download/models/287641 Meichidark_V5.safetensors"
   ]
  },
  {
   "cell_type": "markdown",
   "id": "8bc20e56-9ba4-48ac-bdfc-17179a747ee8",
   "metadata": {
    "tags": []
   },
   "source": [
    "## *Lora* <span style=\"color:#ff7171; font-size: 14px;\">temporary</span>"
   ]
  },
  {
   "cell_type": "code",
   "execution_count": null,
   "id": "936784d0-67c8-442c-aa3a-ee3456f8f4bb",
   "metadata": {
    "tags": []
   },
   "outputs": [],
   "source": [
    "%tempe\n",
    "%cd -q ~/ComfyUI/models/loras\n",
    "\n",
    "%download https://civitai.com/api/download/models/87153  add_detail.safetensors\n",
    "%download https://civitai.com/api/download/models/438296 detail_slider_v4.safetensors\n",
    "%download https://civitai.com/api/download/models/62833  Detail_Tweaker.safetensors\n",
    "%download https://civitai.com/api/download/models/86247  flat2.safetensors"
   ]
  },
  {
   "cell_type": "markdown",
   "id": "b4b19ba2-ae2b-481b-9b39-be6eac7a0f77",
   "metadata": {
    "tags": []
   },
   "source": [
    "## Run ComfyUI"
   ]
  },
  {
   "cell_type": "code",
   "execution_count": null,
   "id": "cb946c30-02d4-4ca3-9c52-2201b3ce705e",
   "metadata": {
    "tags": []
   },
   "outputs": [],
   "source": [
    "''' Pinggy tunnel, relaunch every 1 hour '''\n",
    "\n",
    "%cd -q ~/ComfyUI\n",
    "!python pinggy.py --dont-print-server --preview-method auto --use-pytorch-cross-attention"
   ]
  },
  {
   "cell_type": "code",
   "execution_count": null,
   "id": "4cffd230-2fd0-49b2-a91d-eb5b826be801",
   "metadata": {
    "tags": []
   },
   "outputs": [],
   "source": [
    "token = \"YOUR_ZROK_TOKEN\"\n",
    "\n",
    "%cd -q ~/ComfyUI\n",
    "!python zrok.py {token} --dont-print-server --preview-method auto --use-pytorch-cross-attention"
   ]
  },
  {
   "cell_type": "code",
   "execution_count": null,
   "id": "a84f33cd-684e-4dce-a3c5-3f285625c065",
   "metadata": {},
   "outputs": [],
   "source": [
    "token = \"YOUR_NGROK_TOKEN\"\n",
    "\n",
    "%cd -q ~/ComfyUI\n",
    "!python ngrok.py {token} --dont-print-server --preview-method auto --use-pytorch-cross-attention"
   ]
  },
  {
   "cell_type": "markdown",
   "id": "b321c948-5d0c-4f7d-9583-04a75b841e37",
   "metadata": {
    "jp-MarkdownHeadingCollapsed": true,
    "tags": []
   },
   "source": [
    "## Extras"
   ]
  },
  {
   "cell_type": "code",
   "execution_count": null,
   "id": "4d0d7ec8-da8f-4197-8fd0-9a15fed549f2",
   "metadata": {},
   "outputs": [],
   "source": [
    "''' Run this cell to register a ZROK account '''\n",
    "%run ~/ComfyUI/asd/zrok_reg.py"
   ]
  },
  {
   "cell_type": "markdown",
   "id": "6b74f461-3a60-44fe-8d96-b6fe2f0105a5",
   "metadata": {
    "id": "bf5499c3-18fb-4325-8c37-5298751e4f97",
    "tags": []
   },
   "source": [
    "#### Storage"
   ]
  },
  {
   "cell_type": "code",
   "execution_count": null,
   "id": "fe9b41c3-932e-442c-9d5e-d43b83a8096d",
   "metadata": {
    "tags": []
   },
   "outputs": [],
   "source": [
    "''' Check Storage '''\n",
    "\n",
    "%storage /home/studio-lab-user/ComfyUI"
   ]
  },
  {
   "cell_type": "code",
   "execution_count": null,
   "id": "9951220b-4c44-4e52-80db-9fe37ab3a6f2",
   "metadata": {
    "tags": []
   },
   "outputs": [],
   "source": [
    "''' Delete output images '''\n",
    "\n",
    "!rm -rf ~/ComfyUI/output/* ~/.cache/*"
   ]
  },
  {
   "cell_type": "code",
   "execution_count": null,
   "id": "66ad2fea-6aab-4768-a26b-d880eb046623",
   "metadata": {
    "tags": []
   },
   "outputs": [],
   "source": [
    "''' Delete ComfyUI '''\n",
    "\n",
    "!rm -rf ~/tmp/* ~/ComfyUI ~/tmp ~/.cache/*"
   ]
  },
  {
   "cell_type": "code",
   "execution_count": null,
   "id": "9e058676-e9cc-4a39-aeae-c86852d44f5e",
   "metadata": {
    "tags": []
   },
   "outputs": [],
   "source": [
    "''' DELETE EVERYTHING , restart jupyterlab afterward '''\n",
    "\n",
    "%delete /home/studio-lab-user"
   ]
  },
  {
   "cell_type": "markdown",
   "id": "89f767e5-2ab8-41b0-81ed-8fda5af53342",
   "metadata": {
    "jp-MarkdownHeadingCollapsed": true,
    "tags": []
   },
   "source": [
    "#### ```zip``` Output images"
   ]
  },
  {
   "cell_type": "code",
   "execution_count": null,
   "id": "e4136d67-2cb1-473e-b5bf-4d4f7ab16df8",
   "metadata": {
    "tags": []
   },
   "outputs": [],
   "source": [
    "%%zipping\n",
    "\n",
    "input_folder  = '/home/studio-lab-user/ComfyUI/output'\n",
    "output_folder = '/home/studio-lab-user'"
   ]
  }
 ],
 "metadata": {
  "kernelspec": {
   "display_name": "",
   "name": ""
  },
  "language_info": {
   "name": ""
  }
 },
 "nbformat": 4,
 "nbformat_minor": 5
}
